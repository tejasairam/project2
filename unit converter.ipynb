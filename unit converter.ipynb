{
 "cells": [
  {
   "cell_type": "code",
   "execution_count": 5,
   "id": "063b5d12",
   "metadata": {},
   "outputs": [
    {
     "name": "stdout",
     "output_type": "stream",
     "text": [
      "\n",
      "Unit Converter\n",
      "\n",
      "Conversions available:\n",
      "\n",
      "1 -> celsius -> fahrenheit\n",
      "2 -> fahrenheit -> celsius\n",
      "3 -> meters -> feet\n",
      "4 -> feet -> meters\n",
      "5 -> kgs -> pounds\n",
      "6 -> pounds -> kgs\n",
      "\n",
      "Enter the number of the conversion to use --> 1\n",
      "Enter celsius --> 25\n",
      "\n",
      "25.0 celsius -> 77.0 fahrenheit\n"
     ]
    }
   ],
   "source": [
    "print()\n",
    "print('Unit Converter')\n",
    "print()\n",
    "\n",
    "conversions_available = [(1, 'celsius', 'fahrenheit'),\n",
    "                        (2, 'fahrenheit', 'celsius'),\n",
    "                        (3, 'meters', 'feet'),\n",
    "                        (4, 'feet', 'meters'),\n",
    "                        (5, 'kgs', 'pounds'),\n",
    "                        (6, 'pounds', 'kgs')]\n",
    "\n",
    "print('Conversions available:')\n",
    "print()\n",
    "\n",
    "for conversion_number, from_unit, to_unit in conversions_available:\n",
    "    print(f'{conversion_number} -> {from_unit} -> {to_unit}')\n",
    "print()\n",
    "\n",
    "conversion = input('Enter the number of the conversion to use --> ')\n",
    "\n",
    "conversion_number = int(conversion)\n",
    "\n",
    "# Check if the entered conversion number is valid\n",
    "valid_conversion = False\n",
    "for available_conversion, _, _ in conversions_available:\n",
    "    if conversion_number == available_conversion:\n",
    "        valid_conversion = True\n",
    "        break\n",
    "\n",
    "if valid_conversion:\n",
    "    conversion_index = conversion_number - 1\n",
    "    from_unit = conversions_available[conversion_index][1]  # Get the source unit\n",
    "    to_unit = conversions_available[conversion_index][2]    # Get the target unit\n",
    "    from_value = float(input(f'Enter {from_unit} --> '))\n",
    "    print()\n",
    "\n",
    "    to_value = None\n",
    "\n",
    "    if conversion_index == 0:\n",
    "        to_value = from_value * 1.8 + 32\n",
    "    elif conversion_index == 1:\n",
    "        to_value = (from_value - 32) * (5 / 9)\n",
    "    elif conversion_index == 2:\n",
    "        to_value = from_value * 3.28\n",
    "    elif conversion_index == 3:\n",
    "        to_value = from_value * 0.3048\n",
    "    elif conversion_index == 4:\n",
    "        to_value = from_value * 2.20462\n",
    "    elif conversion_index == 5:\n",
    "        to_value = from_value * 0.453592\n",
    "else:\n",
    "    print('Invalid conversion number. Please choose a valid conversion.')\n",
    "\n",
    "if to_value is not None:\n",
    "    print(f'{from_value} {from_unit} -> {to_value} {to_unit}')\n"
   ]
  },
  {
   "cell_type": "code",
   "execution_count": null,
   "id": "85b86114",
   "metadata": {},
   "outputs": [],
   "source": []
  }
 ],
 "metadata": {
  "kernelspec": {
   "display_name": "Python 3 (ipykernel)",
   "language": "python",
   "name": "python3"
  },
  "language_info": {
   "codemirror_mode": {
    "name": "ipython",
    "version": 3
   },
   "file_extension": ".py",
   "mimetype": "text/x-python",
   "name": "python",
   "nbconvert_exporter": "python",
   "pygments_lexer": "ipython3",
   "version": "3.10.9"
  }
 },
 "nbformat": 4,
 "nbformat_minor": 5
}
